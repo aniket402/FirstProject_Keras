{
 "cells": [
  {
   "cell_type": "code",
   "execution_count": 31,
   "metadata": {},
   "outputs": [],
   "source": [
    "# keras sequential model\n",
    "from keras.models import Sequential"
   ]
  },
  {
   "cell_type": "code",
   "execution_count": 32,
   "metadata": {},
   "outputs": [],
   "source": [
    "# creating the model\n",
    "model = Sequential()"
   ]
  },
  {
   "cell_type": "code",
   "execution_count": 33,
   "metadata": {},
   "outputs": [],
   "source": [
    "# adding layers\n",
    "from keras.layers import Dense\n",
    "\n",
    "model.add(Dense(units=32,activation='relu',input_dim=30))   #layer1\n",
    "model.add(Dense(units=16,activation='relu'))   #layer2\n",
    "model.add(Dense(units=1,activation='sigmoid'))   #output layer, binary classification problem. "
   ]
  },
  {
   "cell_type": "code",
   "execution_count": 34,
   "metadata": {},
   "outputs": [],
   "source": [
    "# compile\n",
    "model.compile(optimizer='adam',loss='binary_crossentropy',metrics=['accuracy'])"
   ]
  },
  {
   "cell_type": "code",
   "execution_count": 35,
   "metadata": {},
   "outputs": [],
   "source": [
    "from sklearn import datasets\n",
    "\n",
    "cancer = datasets.load_breast_cancer()\n",
    "from sklearn.model_selection import train_test_split\n",
    "\n",
    "x_train, x_test, y_train, y_test = train_test_split(cancer.data,cancer.target,test_size=0.2,random_state=44)\n",
    "from sklearn.preprocessing import StandardScaler\n",
    "\n",
    "sc = StandardScaler()\n",
    "x_train = sc.fit_transform(x_train)\n",
    "x_test = sc.transform(x_test)"
   ]
  },
  {
   "cell_type": "code",
   "execution_count": 36,
   "metadata": {},
   "outputs": [
    {
     "name": "stdout",
     "output_type": "stream",
     "text": [
      "Train on 455 samples, validate on 114 samples\n",
      "Epoch 1/20\n",
      "455/455 [==============================] - 0s 1ms/step - loss: 0.6562 - accuracy: 0.5978 - val_loss: 0.4886 - val_accuracy: 0.8421\n",
      "Epoch 2/20\n",
      "455/455 [==============================] - 0s 61us/step - loss: 0.4667 - accuracy: 0.8330 - val_loss: 0.3500 - val_accuracy: 0.9474\n",
      "Epoch 3/20\n",
      "455/455 [==============================] - 0s 58us/step - loss: 0.3617 - accuracy: 0.8945 - val_loss: 0.2644 - val_accuracy: 0.9561\n",
      "Epoch 4/20\n",
      "455/455 [==============================] - 0s 56us/step - loss: 0.2969 - accuracy: 0.9121 - val_loss: 0.2096 - val_accuracy: 0.9737\n",
      "Epoch 5/20\n",
      "455/455 [==============================] - 0s 70us/step - loss: 0.2529 - accuracy: 0.9231 - val_loss: 0.1747 - val_accuracy: 0.9737\n",
      "Epoch 6/20\n",
      "455/455 [==============================] - 0s 63us/step - loss: 0.2212 - accuracy: 0.9297 - val_loss: 0.1478 - val_accuracy: 0.9737\n",
      "Epoch 7/20\n",
      "455/455 [==============================] - 0s 57us/step - loss: 0.1975 - accuracy: 0.9319 - val_loss: 0.1255 - val_accuracy: 0.9737\n",
      "Epoch 8/20\n",
      "455/455 [==============================] - 0s 55us/step - loss: 0.1773 - accuracy: 0.9363 - val_loss: 0.1082 - val_accuracy: 0.9825\n",
      "Epoch 9/20\n",
      "455/455 [==============================] - 0s 47us/step - loss: 0.1621 - accuracy: 0.9385 - val_loss: 0.0948 - val_accuracy: 0.9825\n",
      "Epoch 10/20\n",
      "455/455 [==============================] - 0s 62us/step - loss: 0.1496 - accuracy: 0.9451 - val_loss: 0.0851 - val_accuracy: 0.9825\n",
      "Epoch 11/20\n",
      "455/455 [==============================] - 0s 62us/step - loss: 0.1404 - accuracy: 0.9495 - val_loss: 0.0772 - val_accuracy: 0.9825\n",
      "Epoch 12/20\n",
      "455/455 [==============================] - 0s 58us/step - loss: 0.1314 - accuracy: 0.9516 - val_loss: 0.0700 - val_accuracy: 0.9825\n",
      "Epoch 13/20\n",
      "455/455 [==============================] - 0s 66us/step - loss: 0.1234 - accuracy: 0.9516 - val_loss: 0.0640 - val_accuracy: 0.9825\n",
      "Epoch 14/20\n",
      "455/455 [==============================] - 0s 63us/step - loss: 0.1159 - accuracy: 0.9604 - val_loss: 0.0592 - val_accuracy: 0.9825\n",
      "Epoch 15/20\n",
      "455/455 [==============================] - 0s 59us/step - loss: 0.1100 - accuracy: 0.9626 - val_loss: 0.0550 - val_accuracy: 0.9825\n",
      "Epoch 16/20\n",
      "455/455 [==============================] - 0s 62us/step - loss: 0.1044 - accuracy: 0.9648 - val_loss: 0.0514 - val_accuracy: 0.9825\n",
      "Epoch 17/20\n",
      "455/455 [==============================] - 0s 61us/step - loss: 0.0992 - accuracy: 0.9648 - val_loss: 0.0485 - val_accuracy: 0.9825\n",
      "Epoch 18/20\n",
      "455/455 [==============================] - 0s 59us/step - loss: 0.0947 - accuracy: 0.9692 - val_loss: 0.0458 - val_accuracy: 0.9825\n",
      "Epoch 19/20\n",
      "455/455 [==============================] - 0s 60us/step - loss: 0.0905 - accuracy: 0.9758 - val_loss: 0.0436 - val_accuracy: 0.9825\n",
      "Epoch 20/20\n",
      "455/455 [==============================] - 0s 60us/step - loss: 0.0868 - accuracy: 0.9758 - val_loss: 0.0418 - val_accuracy: 0.9825\n"
     ]
    }
   ],
   "source": [
    "history = model.fit(x_train,y_train,epochs=20,batch_size=50,validation_data=(x_test,y_test))\n",
    "# we are getting loss and accuracy on training data\n",
    "# and also on the validation data for each epoch"
   ]
  },
  {
   "cell_type": "code",
   "execution_count": 42,
   "metadata": {},
   "outputs": [
    {
     "data": {
      "image/png": "[encoded data removed]",
      "text/plain": [
       "<Figure size 432x288 with 1 Axes>"
      ]
     },
     "metadata": {
      "needs_background": "light"
     },
     "output_type": "display_data"
    }
   ],
   "source": [
    "import pandas as pd\n",
    "import matplotlib.pyplot as plt\n",
    "history_df = pd.DataFrame(history.history)\n",
    "history_df[['accuracy', 'val_accuracy']].plot()\n",
    "plt.title('TRAINING AND VALIDATION ACCURACY')\n",
    "plt.savefig('fig1.jpg')"
   ]
  },
  {
   "cell_type": "code",
   "execution_count": 43,
   "metadata": {},
   "outputs": [
    {
     "data": {
      "image/png": "[encoded data removed]",
      "text/plain": [
       "<Figure size 432x288 with 1 Axes>"
      ]
     },
     "metadata": {
      "needs_background": "light"
     },
     "output_type": "display_data"
    }
   ],
   "source": [
    "history_df[['loss', 'val_loss']].plot()\n",
    "plt.title('TRAINING AND VALIDATION LOSS')\n",
    "plt.savefig('fig2.jpg')"
   ]
  },
  {
   "cell_type": "code",
   "execution_count": 44,
   "metadata": {},
   "outputs": [
    {
     "data": {
      "text/plain": [
       "array([[7.1671844e-02],\n",
       "       [2.0366907e-04],\n",
       "       [9.9075174e-01],\n",
       "       [1.7398596e-04],\n",
       "       [7.8794533e-01],\n",
       "       [9.8197931e-01],\n",
       "       [9.9925208e-01],\n",
       "       [8.3477557e-01],\n",
       "       [3.9177835e-03],\n",
       "       [9.9957865e-01],\n",
       "       [2.1578124e-01],\n",
       "       [9.8297095e-01],\n",
       "       [1.0872483e-03],\n",
       "       [3.0434340e-02],\n",
       "       [9.9958247e-01],\n",
       "       [9.5961440e-01],\n",
       "       [9.9968314e-01],\n",
       "       [2.6493967e-03],\n",
       "       [6.5316767e-02],\n",
       "       [9.7869897e-01],\n",
       "       [9.9949419e-01],\n",
       "       [9.5188630e-01],\n",
       "       [9.9998796e-01],\n",
       "       [9.8046899e-01],\n",
       "       [9.8451555e-01],\n",
       "       [3.1351787e-01],\n",
       "       [9.7781384e-01],\n",
       "       [9.5195794e-01],\n",
       "       [7.8637600e-03],\n",
       "       [9.9994004e-01],\n",
       "       [9.9772131e-01],\n",
       "       [9.9711943e-01],\n",
       "       [9.9151731e-01],\n",
       "       [9.9734020e-01],\n",
       "       [9.9176431e-01],\n",
       "       [9.9752313e-01],\n",
       "       [9.9996221e-01],\n",
       "       [9.9779022e-01],\n",
       "       [9.9965340e-01],\n",
       "       [9.5165998e-01],\n",
       "       [9.3122911e-01],\n",
       "       [9.9129766e-01],\n",
       "       [1.5199184e-06],\n",
       "       [9.3658078e-01],\n",
       "       [9.7926545e-01],\n",
       "       [9.9752301e-01],\n",
       "       [9.9377918e-01],\n",
       "       [9.9404091e-01],\n",
       "       [8.3990955e-01],\n",
       "       [4.8598647e-04],\n",
       "       [9.7798073e-01],\n",
       "       [9.9997425e-01],\n",
       "       [9.9997127e-01],\n",
       "       [3.1979740e-02],\n",
       "       [9.6286815e-01],\n",
       "       [2.5629997e-05],\n",
       "       [5.3308332e-01],\n",
       "       [9.9636602e-01],\n",
       "       [9.8824883e-01],\n",
       "       [7.4562258e-01],\n",
       "       [9.9899137e-01],\n",
       "       [9.9832183e-01],\n",
       "       [9.9973303e-01],\n",
       "       [1.9082427e-04],\n",
       "       [9.9943364e-01],\n",
       "       [5.4419041e-05],\n",
       "       [1.4901161e-07],\n",
       "       [9.8585939e-01],\n",
       "       [0.0000000e+00],\n",
       "       [7.4666739e-04],\n",
       "       [1.8288165e-02],\n",
       "       [9.9698746e-01],\n",
       "       [6.2584877e-07],\n",
       "       [9.9575782e-01],\n",
       "       [9.9946284e-01],\n",
       "       [2.8908253e-06],\n",
       "       [2.8132498e-03],\n",
       "       [9.9866283e-01],\n",
       "       [8.0466270e-06],\n",
       "       [9.0344733e-01],\n",
       "       [9.8685265e-01],\n",
       "       [9.6544743e-01],\n",
       "       [9.1913730e-01],\n",
       "       [9.9176991e-01],\n",
       "       [9.9950451e-01],\n",
       "       [8.0466270e-05],\n",
       "       [9.9985880e-01],\n",
       "       [9.9712348e-01],\n",
       "       [9.9959350e-01],\n",
       "       [1.8179417e-06],\n",
       "       [9.9808633e-01],\n",
       "       [9.9768877e-01],\n",
       "       [9.9725163e-01],\n",
       "       [9.9797994e-01],\n",
       "       [9.9581969e-01],\n",
       "       [9.8718095e-01],\n",
       "       [5.4256916e-03],\n",
       "       [9.9980259e-01],\n",
       "       [9.8705244e-01],\n",
       "       [4.1723251e-06],\n",
       "       [9.9982655e-01],\n",
       "       [6.0809940e-02],\n",
       "       [4.1723251e-07],\n",
       "       [9.8264110e-01],\n",
       "       [1.4901161e-07],\n",
       "       [9.9951243e-01],\n",
       "       [2.5545478e-01],\n",
       "       [2.7874112e-03],\n",
       "       [2.8863251e-03],\n",
       "       [9.4502926e-01],\n",
       "       [8.9888841e-02],\n",
       "       [7.6401234e-04],\n",
       "       [1.1971821e-02],\n",
       "       [1.8878127e-03]], dtype=float32)"
      ]
     },
     "execution_count": 44,
     "metadata": {},
     "output_type": "execute_result"
    }
   ],
   "source": [
    "predictions = model.predict(x_test)\n",
    "predictions"
   ]
  },
  {
   "cell_type": "code",
   "execution_count": 45,
   "metadata": {},
   "outputs": [
    {
     "name": "stdout",
     "output_type": "stream",
     "text": [
      "114/114 [==============================] - 0s 46us/step\n"
     ]
    },
    {
     "data": {
      "text/plain": [
       "[0.041780412131757066, 0.9824561476707458]"
      ]
     },
     "execution_count": 45,
     "metadata": {},
     "output_type": "execute_result"
    }
   ],
   "source": [
    "score=model.evaluate(x_test,y_test)\n",
    "score\n",
    "# this is the loss and accuracy, the metric which we provided above when writing the compile function. "
   ]
  }
 ],
 "metadata": {
  "kernelspec": {
   "display_name": "Python 3",
   "language": "python",
   "name": "python3"
  },
  "language_info": {
   "codemirror_mode": {
    "name": "ipython",
    "version": 3
   },
   "file_extension": ".py",
   "mimetype": "text/x-python",
   "name": "python",
   "nbconvert_exporter": "python",
   "pygments_lexer": "ipython3",
   "version": "3.7.4"
  }
 },
 "nbformat": 4,
 "nbformat_minor": 4
}
